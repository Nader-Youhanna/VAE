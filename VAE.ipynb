{
 "cells": [
  {
   "cell_type": "markdown",
   "metadata": {},
   "source": [
    "## Imports"
   ]
  },
  {
   "cell_type": "code",
   "execution_count": 1,
   "metadata": {},
   "outputs": [
    {
     "name": "stderr",
     "output_type": "stream",
     "text": [
      "d:\\Programs\\Anaconda\\Anaconda\\envs\\AI_generic\\lib\\site-packages\\tqdm\\auto.py:21: TqdmWarning: IProgress not found. Please update jupyter and ipywidgets. See https://ipywidgets.readthedocs.io/en/stable/user_install.html\n",
      "  from .autonotebook import tqdm as notebook_tqdm\n"
     ]
    },
    {
     "name": "stdout",
     "output_type": "stream",
     "text": [
      "Device: cuda\n"
     ]
    }
   ],
   "source": [
    "import torch\n",
    "import torch.nn as nn\n",
    "import torch.nn.functional as F\n",
    "import torchvision\n",
    "from torchvision import transforms\n",
    "from torchvision.utils import save_image\n",
    "from tqdm import tqdm\n",
    "import torchvision.datasets as datasets  \n",
    "from torch.utils.data import DataLoader\n",
    "from torchvision.datasets import ImageFolder\n",
    "import matplotlib.pyplot as plt\n",
    "device = torch.device('cuda' if torch.cuda.is_available() else 'cpu')\n",
    "# device = 'cpu'\n",
    "print(f'Device: {device}')"
   ]
  },
  {
   "cell_type": "markdown",
   "metadata": {},
   "source": [
    "## Define the image transformation pipeline and load data"
   ]
  },
  {
   "cell_type": "code",
   "execution_count": 2,
   "metadata": {},
   "outputs": [],
   "source": [
    "transform = transforms.Compose([\n",
    "                                transforms.ToTensor(), \n",
    "                                # transforms.Normalize(mean=[0.5], std=[0.5])\n",
    "                                ])\n",
    "\n",
    "train_data = torchvision.datasets.MNIST(root='./data', train=True, download=True, transform=transform)\n",
    "test_data = torchvision.datasets.MNIST(root='./data', train=False, download=True, transform=transform)\n",
    "\n",
    "train_loader = DataLoader(train_data, batch_size=64, shuffle=True)\n",
    "test_loader = DataLoader(test_data, batch_size=64, shuffle=False)"
   ]
  },
  {
   "cell_type": "markdown",
   "metadata": {},
   "source": [
    "## Define the Model"
   ]
  },
  {
   "cell_type": "code",
   "execution_count": 3,
   "metadata": {},
   "outputs": [],
   "source": [
    "class VariationalAutoEncoder(nn.Module):\n",
    "    def __init__(self, \n",
    "                latent_dim = 20, # Dimensionality of latent space\n",
    "                ):\n",
    "        super().__init__()\n",
    "\n",
    "        # Encoder\n",
    "        self.conv1 = nn.Conv2d(1, 32, (3,3), padding=1)\n",
    "        self.pool1 = nn.MaxPool2d(2, 2)\n",
    "        \n",
    "        self.conv2 = nn.Conv2d(32, 64, kernel_size=3, stride=1, padding=1)\n",
    "        self.pool2 = nn.MaxPool2d(2, 2)\n",
    "\n",
    "        self.fc1 = nn.Linear(7*7*64, 512)  # Flatten the output of conv2 and pool2\n",
    "        \n",
    "        # Latent space representation\n",
    "        self.fc_mu = nn.Linear(512, latent_dim)  # Mean (mu)\n",
    "        self.fc_logvar = nn.Linear(512, latent_dim)  # Log variance (log(σ^2))\n",
    "\n",
    "       \n",
    "        # Decoder\n",
    "        self.fc2 = nn.Linear(latent_dim, 512)\n",
    "        self.fc3 = nn.Linear(512, 7*7*64)\n",
    "        \n",
    "        self.deconv1 = nn.ConvTranspose2d(64, 32, kernel_size=3, stride=2, padding=1, output_padding=1)  # (14, 14, 32)\n",
    "        self.deconv2 = nn.ConvTranspose2d(32, 1, kernel_size=3, stride=2, padding=1, output_padding=1)  # (28, 28, 1)\n",
    "\n",
    "\n",
    "    def encode(self, x):\n",
    "        # x: (1, 28, 28)\n",
    "\n",
    "        # Apply convolutional layers followed by max pooling\n",
    "        x = torch.relu(self.conv1(x)) # x: (N, 32, 28, 28)\n",
    "        x = self.pool1(x) # x: (N, 32, 14, 14)\n",
    "        x = torch.relu(self.conv2(x)) # x: (N, 64, 14, 14)\n",
    "        x = self.pool2(x) # x: (N, 64, 7, 7)\n",
    "        \n",
    "        # Flatten the tensor\n",
    "        x = x.view(x.size(0), -1)  # Flatten to (N, 7*7*64)\n",
    "        \n",
    "        # Fully connected layer\n",
    "        x = torch.relu(self.fc1(x)) # x: (N, 512)\n",
    "        \n",
    "        # Output latent variables (mean and log variance)\n",
    "        mu = self.fc_mu(x) # mu: (N, 20)\n",
    "        logvar = self.fc_logvar(x) # logvar: (N, 20)\n",
    "\n",
    "        return mu, logvar\n",
    "    \n",
    "    def decode(self, x):\n",
    "        # x: (N, 20)\n",
    "        # Fully Connected Layers\n",
    "        x = torch.relu(self.fc2(x)) # x: (N, 512)\n",
    "        x = torch.relu(self.fc3(x)) # x: (N, 64*7*7)\n",
    "\n",
    "        # UnFlatten\n",
    "        x = x.view(x.size(0), 64, 7, 7) # x: (N, 64, 7, 7)\n",
    "        \n",
    "        # Deconv\n",
    "        x = torch.relu(self.deconv1(x)) # x: (N, 64, 14, 14)\n",
    "        x = torch.sigmoid(self.deconv2(x)) # x: (N, 32, 28, 28)\n",
    "        return x\n",
    "\n",
    "    def reparameterize(self, mu, logvar):\n",
    "        std = torch.exp(0.5 * logvar)\n",
    "        eps = torch.randn_like(std)\n",
    "        return mu + eps * std\n",
    "\n",
    "\n",
    "    def forward(self, x):\n",
    "        mu, logvar = self.encode(x)\n",
    "        z = self.reparameterize(mu, logvar)\n",
    "        x_reconstructed = self.decode(z)\n",
    "        return x_reconstructed, mu, logvar"
   ]
  },
  {
   "cell_type": "markdown",
   "metadata": {},
   "source": [
    "## Define Loss Function"
   ]
  },
  {
   "cell_type": "markdown",
   "metadata": {},
   "source": [
    "### The loss function of VAE is given by:\n",
    "$$ L_{VAE} = L_{recon} + L_{KL} $$\n",
    "$$ L_{recon} = - \\mathbb{E}_{q(z|x)}[\\log{p(x|z)}] = -\\frac{1}{N} \\sum_{i=1}^{N}\\log{p(x_i|z_i)}$$\n",
    "$$\\textrm{and} $$\n",
    "$$ L_{KL} = D_{KL}(q(z|x) || p(z))  = \\frac{1}{2} \\sum_{j=1}^{d}(\\mu^2_j+\\sigma^2_j-\\log{(\\sigma^2_j)-1})$$"
   ]
  },
  {
   "cell_type": "code",
   "execution_count": 4,
   "metadata": {},
   "outputs": [],
   "source": [
    "def vae_loss(x_reconstructed, x, mu, logvar):\n",
    "    BCE_loss = nn.BCELoss(reduction='sum')(x_reconstructed.view(-1, 28 * 28), x.view(-1, 28 * 28))\n",
    "    assert(BCE_loss >= 0)\n",
    "    # KL Divergence\n",
    "    # D_KL(q(z|x) || p(z)) = -0.5 * sum(1 + log(sigma^2) - mu^2 - sigma^2)\n",
    "\n",
    "    KL_divergence = -0.5 * torch.sum(1 + logvar - mu.pow(2) - logvar.exp())\n",
    "    assert(KL_divergence >= 0)\n",
    "    \n",
    "    return BCE_loss + KL_divergence"
   ]
  },
  {
   "cell_type": "markdown",
   "metadata": {},
   "source": [
    "## Define train function"
   ]
  },
  {
   "cell_type": "code",
   "execution_count": 5,
   "metadata": {},
   "outputs": [],
   "source": [
    "def train(num_epochs, model, optimizer, loss_fn):\n",
    "    # Start training\n",
    "    for epoch in range(num_epochs):\n",
    "        model.train()\n",
    "        train_loss = 0.0\n",
    "        with tqdm(total=len(train_loader.dataset), desc=f'Epoch {epoch+1}/{num_epochs}', unit='img') as pbar:\n",
    "            for data, _ in train_loader:\n",
    "                # data: (N, 1, 28, 28)\n",
    "                x = data.to(device)\n",
    "                # print(f'x: {x.min(), x.max()}')\n",
    "                optimizer.zero_grad()\n",
    "        \n",
    "                # Forward pass\n",
    "                x_reconstructed, mu, logvar = model(x)\n",
    "                # print(f'x_rec: {x_reconstructed.min(), x_reconstructed.max()}')\n",
    "        \n",
    "                # x_reconstructed: (N, 1, 28, 28)\n",
    "                # mu: (N, 1, 20)\n",
    "                # logvar: (N, 1, 20)\n",
    "\n",
    "                loss = loss_fn(x_reconstructed, x, mu, logvar)\n",
    "\n",
    "                loss.backward()\n",
    "                optimizer.step()\n",
    "                train_loss += loss.item()\n",
    "\n",
    "                # Update progress bar\n",
    "                pbar.set_postfix({'Loss': loss.item()})\n",
    "                pbar.update(data.size(0))  # Update with batch size\n",
    "        avg_train_loss = train_loss / len(train_loader.dataset)\n",
    "        print(f'Epoch [{epoch+1}/{num_epochs}], Loss: {avg_train_loss:.4f}')\n",
    "        \n",
    "        # Optionally, evaluate on the test set with tqdm\n",
    "        model.eval()\n",
    "        with torch.no_grad():\n",
    "            test_loss = 0.0\n",
    "            with tqdm(total=len(test_loader.dataset), desc='Evaluating', unit='img') as pbar:\n",
    "                for data, _ in test_loader:\n",
    "                    data = data.to(device)\n",
    "                    recon_data, mu, logvar = model(data)\n",
    "                    loss = loss_fn(recon_data, data, mu, logvar)\n",
    "                    test_loss += loss.item()\n",
    "                    pbar.update(data.size(0))  # Update with batch size\n",
    "\n",
    "            avg_test_loss = test_loss / len(test_loader.dataset)\n",
    "            print(f'Test Loss: {avg_test_loss:.4f}')"
   ]
  },
  {
   "cell_type": "code",
   "execution_count": 8,
   "metadata": {},
   "outputs": [
    {
     "name": "stderr",
     "output_type": "stream",
     "text": [
      "Epoch 1/3: 100%|██████████| 60000/60000 [00:18<00:00, 3158.02img/s, Loss=3.74e+3]\n"
     ]
    },
    {
     "name": "stdout",
     "output_type": "stream",
     "text": [
      "Epoch [1/3], Loss: 139.5037\n"
     ]
    },
    {
     "name": "stderr",
     "output_type": "stream",
     "text": [
      "Evaluating: 100%|██████████| 10000/10000 [00:01<00:00, 6449.49img/s]\n"
     ]
    },
    {
     "name": "stdout",
     "output_type": "stream",
     "text": [
      "Test Loss: 111.2253\n"
     ]
    },
    {
     "name": "stderr",
     "output_type": "stream",
     "text": [
      "Epoch 2/3: 100%|██████████| 60000/60000 [00:18<00:00, 3309.69img/s, Loss=3.52e+3]\n"
     ]
    },
    {
     "name": "stdout",
     "output_type": "stream",
     "text": [
      "Epoch [2/3], Loss: 108.0057\n"
     ]
    },
    {
     "name": "stderr",
     "output_type": "stream",
     "text": [
      "Evaluating: 100%|██████████| 10000/10000 [00:01<00:00, 6324.41img/s]\n"
     ]
    },
    {
     "name": "stdout",
     "output_type": "stream",
     "text": [
      "Test Loss: 105.0789\n"
     ]
    },
    {
     "name": "stderr",
     "output_type": "stream",
     "text": [
      "Epoch 3/3: 100%|██████████| 60000/60000 [00:18<00:00, 3227.97img/s, Loss=3.4e+3] \n"
     ]
    },
    {
     "name": "stdout",
     "output_type": "stream",
     "text": [
      "Epoch [3/3], Loss: 104.0883\n"
     ]
    },
    {
     "name": "stderr",
     "output_type": "stream",
     "text": [
      "Evaluating: 100%|██████████| 10000/10000 [00:01<00:00, 6334.31img/s]"
     ]
    },
    {
     "name": "stdout",
     "output_type": "stream",
     "text": [
      "Test Loss: 102.7508\n"
     ]
    },
    {
     "name": "stderr",
     "output_type": "stream",
     "text": [
      "\n"
     ]
    }
   ],
   "source": [
    "# Initialize model, optimizer, loss\n",
    "NUM_EPOCHS = 3\n",
    "LATENT_DIM = 20\n",
    "BATCH_SIZE = 32\n",
    "LR = 1e-3\n",
    "model = VariationalAutoEncoder(LATENT_DIM).to(device)\n",
    "optimizer = torch.optim.Adam(model.parameters(), lr=LR)\n",
    "loss_fn = nn.BCELoss(reduction=\"sum\")\n",
    "\n",
    "# Run training\n",
    "train(NUM_EPOCHS, model, optimizer, vae_loss)"
   ]
  },
  {
   "cell_type": "code",
   "execution_count": 10,
   "metadata": {},
   "outputs": [
    {
     "data": {
      "image/png": "[encoded data removed]",
      "text/plain": [
       "<Figure size 1600x400 with 16 Axes>"
      ]
     },
     "metadata": {},
     "output_type": "display_data"
    }
   ],
   "source": [
    "def infer(vae, data_loader, device='cpu'):\n",
    "    vae.eval()  # Set the model to evaluation mode\n",
    "    with torch.no_grad():\n",
    "        # Get one batch of data from the data loader (for visualization)\n",
    "        data, _ = next(iter(data_loader))  # Get the first batch\n",
    "        data = data.to(device)\n",
    "\n",
    "        # Pass data through the encoder and decoder\n",
    "        mu, logvar = vae.encode(data)\n",
    "        z = vae.reparameterize(mu, logvar)\n",
    "        recon_data = vae.decode(z)\n",
    "\n",
    "        # Convert tensor to numpy for visualization\n",
    "        data = data.cpu().numpy()\n",
    "        recon_data = recon_data.cpu().numpy()\n",
    "\n",
    "        # Plot the original and reconstructed images side by side\n",
    "        _, axes = plt.subplots(2, 8, figsize=(16, 4))\n",
    "        for i in range(8):\n",
    "            # Original Image\n",
    "            axes[0, i].imshow(data[i][0], cmap='gray')\n",
    "            axes[0, i].axis('off')\n",
    "            # Reconstructed Image\n",
    "            axes[1, i].imshow(recon_data[i][0], cmap='gray')\n",
    "            axes[1, i].axis('off')\n",
    "\n",
    "        plt.show()\n",
    "\n",
    "# Example of calling the inference function\n",
    "device = torch.device(\"cuda\" if torch.cuda.is_available() else \"cpu\")\n",
    "model.to(device)\n",
    "\n",
    "# Call the inference function to display original and reconstructed images\n",
    "infer(model, test_loader, device)"
   ]
  }
 ],
 "metadata": {
  "kernelspec": {
   "display_name": "AI_generic",
   "language": "python",
   "name": "python3"
  },
  "language_info": {
   "codemirror_mode": {
    "name": "ipython",
    "version": 3
   },
   "file_extension": ".py",
   "mimetype": "text/x-python",
   "name": "python",
   "nbconvert_exporter": "python",
   "pygments_lexer": "ipython3",
   "version": "3.9.21"
  }
 },
 "nbformat": 4,
 "nbformat_minor": 2
}
